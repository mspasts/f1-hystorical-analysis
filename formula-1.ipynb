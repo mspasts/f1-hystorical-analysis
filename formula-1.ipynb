{
 "cells": [
  {
   "cell_type": "code",
   "id": "eeef506e",
   "metadata": {
    "execution": {
     "iopub.execute_input": "2023-04-20T17:11:24.934186Z",
     "iopub.status.busy": "2023-04-20T17:11:24.933686Z",
     "iopub.status.idle": "2023-04-20T17:11:27.173093Z",
     "shell.execute_reply": "2023-04-20T17:11:27.171927Z"
    },
    "id": "7ac5a779",
    "papermill": {
     "duration": 2.259677,
     "end_time": "2023-04-20T17:11:27.175995",
     "exception": false,
     "start_time": "2023-04-20T17:11:24.916318",
     "status": "completed"
    },
    "tags": []
   },
   "source": [
    "import pandas as pd\n",
    "import numpy as np \n",
    "import matplotlib.pyplot as plt\n",
    "import seaborn as sns\n",
    "import plotly.graph_objects as go\n",
    "import plotly.express as px\n",
    "import datetime "
   ],
   "outputs": [],
   "execution_count": null
  },
  {
   "cell_type": "markdown",
   "id": "06b259aa",
   "metadata": {
    "heading_collapsed": true,
    "id": "23657568",
    "papermill": {
     "duration": 0.015985,
     "end_time": "2023-04-20T17:11:27.209883",
     "exception": false,
     "start_time": "2023-04-20T17:11:27.193898",
     "status": "completed"
    },
    "tags": []
   },
   "source": [
    "### Reading the csv files "
   ]
  },
  {
   "cell_type": "code",
   "id": "1e91d690",
   "metadata": {
    "execution": {
     "iopub.execute_input": "2023-04-20T17:11:27.243910Z",
     "iopub.status.busy": "2023-04-20T17:11:27.243242Z",
     "iopub.status.idle": "2023-04-20T17:11:28.141038Z",
     "shell.execute_reply": "2023-04-20T17:11:28.139959Z"
    },
    "hidden": true,
    "id": "41773523",
    "papermill": {
     "duration": 0.917853,
     "end_time": "2023-04-20T17:11:28.143609",
     "exception": false,
     "start_time": "2023-04-20T17:11:27.225756",
     "status": "completed"
    },
    "tags": []
   },
   "source": [
    "circuits = pd.read_csv('https://raw.githubusercontent.com/mspasts/f1-hystorical-analysis/main/circuits.csv')\n",
    "laptimes = pd.read_csv('https://raw.githubusercontent.com/mspasts/f1-hystorical-analysis/main/lap_times.csv')\n",
    "pitstops = pd.read_csv('https://raw.githubusercontent.com/mspasts/f1-hystorical-analysis/main/pit_stops.csv')\n",
    "seasons = pd.read_csv('https://raw.githubusercontent.com/mspasts/f1-hystorical-analysis/main/seasons.csv', parse_dates=['year'])\n",
    "status = pd.read_csv('https://raw.githubusercontent.com/mspasts/f1-hystorical-analysis/main/status.csv')"
   ],
   "outputs": [],
   "execution_count": null
  },
  {
   "cell_type": "code",
   "id": "f875650c",
   "metadata": {
    "execution": {
     "iopub.execute_input": "2023-04-20T17:11:28.177230Z",
     "iopub.status.busy": "2023-04-20T17:11:28.176809Z",
     "iopub.status.idle": "2023-04-20T17:11:28.568548Z",
     "shell.execute_reply": "2023-04-20T17:11:28.567375Z"
    },
    "hidden": true,
    "id": "a457b4c2",
    "papermill": {
     "duration": 0.411565,
     "end_time": "2023-04-20T17:11:28.571218",
     "exception": false,
     "start_time": "2023-04-20T17:11:28.159653",
     "status": "completed"
    },
    "tags": []
   },
   "source": [
    "constructor_standings = pd.read_csv('https://raw.githubusercontent.com/mspasts/f1-hystorical-analysis/main/constructor_standings.csv')\n",
    "constructors = pd.read_csv('https://raw.githubusercontent.com/mspasts/f1-hystorical-analysis/main/constructors.csv')\n",
    "driver_standings = pd.read_csv('https://raw.githubusercontent.com/mspasts/f1-hystorical-analysis/main/driver_standings.csv')\n",
    "drivers = pd.read_csv('https://raw.githubusercontent.com/mspasts/f1-hystorical-analysis/main/drivers.csv')"
   ],
   "outputs": [],
   "execution_count": null
  },
  {
   "cell_type": "code",
   "id": "cafb2bc8",
   "metadata": {
    "execution": {
     "iopub.execute_input": "2023-04-20T17:11:28.605641Z",
     "iopub.status.busy": "2023-04-20T17:11:28.604487Z",
     "iopub.status.idle": "2023-04-20T17:11:29.077567Z",
     "shell.execute_reply": "2023-04-20T17:11:29.076419Z"
    },
    "hidden": true,
    "id": "0ed865f9",
    "papermill": {
     "duration": 0.493231,
     "end_time": "2023-04-20T17:11:29.080407",
     "exception": false,
     "start_time": "2023-04-20T17:11:28.587176",
     "status": "completed"
    },
    "tags": []
   },
   "source": [
    "races = pd.read_csv('https://raw.githubusercontent.com/mspasts/f1-hystorical-analysis/main/races.csv',parse_dates=['year'])\n",
    "constructor_results = pd.read_csv('https://raw.githubusercontent.com/mspasts/f1-hystorical-analysis/main/constructor_results.csv')\n",
    "results = pd.read_csv('https://raw.githubusercontent.com/mspasts/f1-hystorical-analysis/main/results.csv')\n",
    "qualifying = pd.read_csv('https://raw.githubusercontent.com/mspasts/f1-hystorical-analysis/main/qualifying.csv')"
   ],
   "outputs": [],
   "execution_count": null
  },
  {
   "cell_type": "markdown",
   "id": "038d3e9d",
   "metadata": {
    "heading_collapsed": true,
    "id": "ca358534",
    "papermill": {
     "duration": 0.015591,
     "end_time": "2023-04-20T17:11:29.112595",
     "exception": false,
     "start_time": "2023-04-20T17:11:29.097004",
     "status": "completed"
    },
    "tags": []
   },
   "source": [
    "### Most successful constructors "
   ]
  },
  {
   "cell_type": "markdown",
   "id": "a376db59",
   "metadata": {
    "hidden": true,
    "id": "eb6d459f",
    "papermill": {
     "duration": 0.015544,
     "end_time": "2023-04-20T17:11:29.144085",
     "exception": false,
     "start_time": "2023-04-20T17:11:29.128541",
     "status": "completed"
    },
    "tags": []
   },
   "source": "F1 isn't always a winning business for carmakers—financially, it often breaks even at best. Traditional investment logic says if the return on equity is lower than the cost of capital, it destroys value. But that's not the whole story. For many manufacturers, F1 is a powerful marketing tool, boosting brand image and top-line growth. Some teams consistently invest in performance to stay at the top—if you're a die-hard fan, you probably already know who they are. Let's dive into the data!"
  },
  {
   "cell_type": "code",
   "id": "6927d577",
   "metadata": {
    "execution": {
     "iopub.execute_input": "2023-04-20T17:11:29.178675Z",
     "iopub.status.busy": "2023-04-20T17:11:29.177479Z",
     "iopub.status.idle": "2023-04-20T17:11:29.215662Z",
     "shell.execute_reply": "2023-04-20T17:11:29.214398Z"
    },
    "hidden": true,
    "id": "c5faf2bf",
    "papermill": {
     "duration": 0.058588,
     "end_time": "2023-04-20T17:11:29.218572",
     "exception": false,
     "start_time": "2023-04-20T17:11:29.159984",
     "status": "completed"
    },
    "tags": []
   },
   "source": [
    "#merging the constructors dataframe with race results\n",
    "\n",
    "team = constructors.merge(results,on='constructorId',how = 'left')"
   ],
   "outputs": [],
   "execution_count": null
  },
  {
   "cell_type": "code",
   "id": "a138a702",
   "metadata": {
    "execution": {
     "iopub.execute_input": "2023-04-20T17:11:29.252687Z",
     "iopub.status.busy": "2023-04-20T17:11:29.251791Z",
     "iopub.status.idle": "2023-04-20T17:11:29.285835Z",
     "shell.execute_reply": "2023-04-20T17:11:29.284667Z"
    },
    "hidden": true,
    "id": "da719e47",
    "outputId": "49163b6c-27ec-4fe6-f91f-f60b5c93038c",
    "papermill": {
     "duration": 0.054362,
     "end_time": "2023-04-20T17:11:29.288917",
     "exception": false,
     "start_time": "2023-04-20T17:11:29.234555",
     "status": "completed"
    },
    "tags": []
   },
   "source": [
    "#extracting the columns needed and grouping it by constructor name, extracting the total races entered\n",
    "\n",
    "best = team[['name','points','raceId']]\n",
    "best = best.groupby('name')['raceId'].nunique().sort_values(ascending=False).reset_index(name = 'races')\n",
    "best = best[best['races'] >= 100]\n",
    "best.head() "
   ],
   "outputs": [],
   "execution_count": null
  },
  {
   "cell_type": "code",
   "id": "64edf7ad",
   "metadata": {
    "execution": {
     "iopub.execute_input": "2023-04-20T17:11:29.323480Z",
     "iopub.status.busy": "2023-04-20T17:11:29.322528Z",
     "iopub.status.idle": "2023-04-20T17:11:29.360046Z",
     "shell.execute_reply": "2023-04-20T17:11:29.358826Z"
    },
    "hidden": true,
    "id": "826d1b58",
    "outputId": "dda50397-76b6-4b01-e6ba-0235fcd47622",
    "papermill": {
     "duration": 0.057491,
     "end_time": "2023-04-20T17:11:29.362513",
     "exception": false,
     "start_time": "2023-04-20T17:11:29.305022",
     "status": "completed"
    },
    "tags": []
   },
   "source": [
    "#building a formula to calculate points per race \n",
    "\n",
    "func = lambda x: x.points.sum()/x.raceId.nunique()\n",
    "data = (\n",
    "    team[team['name'].isin(best.name)]\n",
    "    .groupby('name')\n",
    "    .apply(func, include_groups=False)\n",
    "    .sort_values(ascending=False)\n",
    "    .reset_index(name='points_per_race')\n",
    ")\n",
    "data.head(10)"
   ],
   "outputs": [],
   "execution_count": null
  },
  {
   "cell_type": "code",
   "id": "09bd6131",
   "metadata": {
    "execution": {
     "iopub.execute_input": "2023-04-20T17:11:29.397602Z",
     "iopub.status.busy": "2023-04-20T17:11:29.396965Z",
     "iopub.status.idle": "2023-04-20T17:11:29.534273Z",
     "shell.execute_reply": "2023-04-20T17:11:29.533137Z"
    },
    "hidden": true,
    "id": "00329582",
    "outputId": "e2d902ce-5801-4213-9d0d-b7d4071edd15",
    "papermill": {
     "duration": 0.158025,
     "end_time": "2023-04-20T17:11:29.537019",
     "exception": false,
     "start_time": "2023-04-20T17:11:29.378994",
     "status": "completed"
    },
    "tags": []
   },
   "source": [
    "#plotting the results\n",
    "\n",
    "fig = go.Figure(\n",
    "    data=[go.Bar(x = data.name, y=data['points_per_race'])],\n",
    "    layout_title_text=\"Constructor's Points per Race\"\n",
    "    \n",
    ")\n",
    "fig.update_xaxes(showgrid=False)\n",
    "fig.update_yaxes(showgrid=False)\n",
    "fig.update_traces(textfont_size=20,\n",
    "                  marker=dict(line=dict(color='#000000', width=2)))\n",
    "fig.show()"
   ],
   "outputs": [],
   "execution_count": null
  },
  {
   "cell_type": "markdown",
   "id": "dd9fbdd3",
   "metadata": {
    "hidden": true,
    "id": "0f8564ee",
    "papermill": {
     "duration": 0.016591,
     "end_time": "2023-04-20T17:11:29.570636",
     "exception": false,
     "start_time": "2023-04-20T17:11:29.554045",
     "status": "completed"
    },
    "tags": []
   },
   "source": "Mercedes and Red Bull have dominated the past decade, showing their consistency in points per race. Meanwhile, Ferrari hasn’t secured a championship title since 2008. One standout is Force India—a smaller-budget team that held its own against giants like Mercedes and Ferrari, averaging an impressive five points per race"
  },
  {
   "cell_type": "code",
   "id": "c34fbece",
   "metadata": {
    "execution": {
     "iopub.execute_input": "2023-04-20T17:11:29.607545Z",
     "iopub.status.busy": "2023-04-20T17:11:29.606761Z",
     "iopub.status.idle": "2023-04-20T17:11:29.628125Z",
     "shell.execute_reply": "2023-04-20T17:11:29.626627Z"
    },
    "hidden": true,
    "id": "bee8f907",
    "outputId": "33a61f4e-3be0-48c4-ffed-9013e0884e0a",
    "papermill": {
     "duration": 0.042621,
     "end_time": "2023-04-20T17:11:29.630893",
     "exception": false,
     "start_time": "2023-04-20T17:11:29.588272",
     "status": "completed"
    },
    "tags": []
   },
   "source": [
    "#calculating historic overall points of top 10 constructors\n",
    "\n",
    "historic_points = team.groupby('name').agg({'points':'sum'}).sort_values('points',ascending=False).reset_index().head(10)\n",
    "historic_points"
   ],
   "outputs": [],
   "execution_count": null
  },
  {
   "cell_type": "code",
   "id": "256f67ab",
   "metadata": {
    "execution": {
     "iopub.execute_input": "2023-04-20T17:11:29.668231Z",
     "iopub.status.busy": "2023-04-20T17:11:29.667602Z",
     "iopub.status.idle": "2023-04-20T17:11:29.682104Z",
     "shell.execute_reply": "2023-04-20T17:11:29.681172Z"
    },
    "hidden": true,
    "id": "b13d9178",
    "outputId": "6af88f1b-d9bc-4c81-938d-13b3bf76a0cd",
    "papermill": {
     "duration": 0.036067,
     "end_time": "2023-04-20T17:11:29.684482",
     "exception": false,
     "start_time": "2023-04-20T17:11:29.648415",
     "status": "completed"
    },
    "tags": []
   },
   "source": [
    "#plotting a bar chart\n",
    "\n",
    "fig = go.Figure(\n",
    "    data=[go.Bar(x = historic_points.name, y=historic_points['points'])],\n",
    "    layout_title_text=\"Constructor's Historic Points\"\n",
    ")\n",
    "fig.update_traces(textfont_size=20,\n",
    "                  marker=dict(line=dict(color='#000000', width=2)))\n",
    "fig.show()"
   ],
   "outputs": [],
   "execution_count": null
  },
  {
   "cell_type": "markdown",
   "id": "9579558f",
   "metadata": {
    "hidden": true,
    "id": "3c8c895f",
    "papermill": {
     "duration": 0.017246,
     "end_time": "2023-04-20T17:11:29.719062",
     "exception": false,
     "start_time": "2023-04-20T17:11:29.701816",
     "status": "completed"
    },
    "tags": []
   },
   "source": "One of the most impressive stats on the chart is Mercedes AMG Petronas securing second place, despite joining Formula 1 only in 2010. In just twelve years, they've amassed two-thirds of Ferrari's all-time points—an incredible achievement."
  },
  {
   "cell_type": "markdown",
   "id": "ef8824dc",
   "metadata": {
    "ExecuteTime": {
     "end_time": "2022-09-21T08:34:40.153735Z",
     "start_time": "2022-09-21T08:34:40.139914Z"
    },
    "heading_collapsed": true,
    "id": "b9fd2569",
    "papermill": {
     "duration": 0.017045,
     "end_time": "2023-04-20T17:11:29.753892",
     "exception": false,
     "start_time": "2023-04-20T17:11:29.736847",
     "status": "completed"
    },
    "tags": []
   },
   "source": "### Q1: Do higher altitude circuits cause more engine failures?"
  },
  {
   "cell_type": "markdown",
   "id": "28ca26b0",
   "metadata": {
    "id": "IImKH6UzQ1-i",
    "papermill": {
     "duration": 0.017309,
     "end_time": "2023-04-20T17:11:29.788278",
     "exception": false,
     "start_time": "2023-04-20T17:11:29.770969",
     "status": "completed"
    },
    "tags": []
   },
   "source": "At high altitudes, the air is thinner, meaning less airflow through radiators and intake valves to cool the brakes and engine. Engines also rely on oxygen for combustion, so lower oxygen levels can lead to performance loss. Key issues include overheating of the transmission and engine components. The Mexican GP’s Autódromo Hermanos Rodríguez, sitting at 2,227 meters above sea level, is the highest F1 track by a wide margin. It's notorious for causing major headaches for teams, forcing engineers to rethink race preparations, knowing performance drops will show up in Friday practice."
  },
  {
   "cell_type": "code",
   "id": "44615503",
   "metadata": {
    "execution": {
     "iopub.execute_input": "2023-04-20T17:11:29.824447Z",
     "iopub.status.busy": "2023-04-20T17:11:29.824028Z",
     "iopub.status.idle": "2023-04-20T17:11:29.882740Z",
     "shell.execute_reply": "2023-04-20T17:11:29.881752Z"
    },
    "hidden": true,
    "id": "8c1ab104",
    "papermill": {
     "duration": 0.07994,
     "end_time": "2023-04-20T17:11:29.885461",
     "exception": false,
     "start_time": "2023-04-20T17:11:29.805521",
     "status": "completed"
    },
    "tags": []
   },
   "source": [
    "#merging circuits, races, results and race status dataframes\n",
    "\n",
    "df = circuits.merge(races,how='left',left_on = 'circuitId',right_on = 'circuitId')\n",
    "df2 = df.merge(results,how='left',on='raceId')\n",
    "status_df = df2.merge(status,how='inner',left_on = 'statusId',right_on= 'statusId')"
   ],
   "outputs": [],
   "execution_count": null
  },
  {
   "cell_type": "code",
   "id": "2d69ef40",
   "metadata": {
    "execution": {
     "iopub.execute_input": "2023-04-20T17:11:29.925842Z",
     "iopub.status.busy": "2023-04-20T17:11:29.925436Z",
     "iopub.status.idle": "2023-04-20T17:11:29.954734Z",
     "shell.execute_reply": "2023-04-20T17:11:29.953798Z"
    },
    "hidden": true,
    "id": "14174ecd",
    "papermill": {
     "duration": 0.051927,
     "end_time": "2023-04-20T17:11:29.957465",
     "exception": false,
     "start_time": "2023-04-20T17:11:29.905538",
     "status": "completed"
    },
    "tags": []
   },
   "source": [
    "#cosmetic changes: dropping columns and renaming\n",
    "\n",
    "status_df.drop(['name_y','url_y','url_x','time_y'],axis=1,inplace=True)\n",
    "status_df.rename(columns={'name_x':'name','time_x':'time'},inplace=True)"
   ],
   "outputs": [],
   "execution_count": null
  },
  {
   "cell_type": "code",
   "id": "9faa69f6",
   "metadata": {
    "execution": {
     "iopub.execute_input": "2023-04-20T17:11:29.995839Z",
     "iopub.status.busy": "2023-04-20T17:11:29.995046Z",
     "iopub.status.idle": "2023-04-20T17:11:30.030092Z",
     "shell.execute_reply": "2023-04-20T17:11:30.028880Z"
    },
    "hidden": true,
    "id": "f99d80b4",
    "outputId": "40daa5ed-e870-4837-92a8-3b41575d3ec9",
    "papermill": {
     "duration": 0.056833,
     "end_time": "2023-04-20T17:11:30.032530",
     "exception": false,
     "start_time": "2023-04-20T17:11:29.975697",
     "status": "completed"
    },
    "tags": []
   },
   "source": [
    "#including rows with issues correlated with thin air in higher altitudes, setting the year to last 7 to include Mexico GP\n",
    "\n",
    "altitude = status_df[status_df['status'].isin(['Transmission','Engine','Overheating'])]\n",
    "altitude = altitude[altitude['year'] >= pd.to_datetime('2015-01-01')]\n",
    "altitude.head()"
   ],
   "outputs": [],
   "execution_count": null
  },
  {
   "cell_type": "code",
   "id": "f4326c03",
   "metadata": {
    "execution": {
     "iopub.execute_input": "2023-04-20T17:11:30.070695Z",
     "iopub.status.busy": "2023-04-20T17:11:30.070016Z",
     "iopub.status.idle": "2023-04-20T17:11:30.086512Z",
     "shell.execute_reply": "2023-04-20T17:11:30.085119Z"
    },
    "hidden": true,
    "id": "83cbff3c",
    "outputId": "53dd7f06-f4af-41bf-c156-b988fa0d7260",
    "papermill": {
     "duration": 0.038677,
     "end_time": "2023-04-20T17:11:30.089128",
     "exception": false,
     "start_time": "2023-04-20T17:11:30.050451",
     "status": "completed"
    },
    "tags": []
   },
   "source": [
    "#grouping by track name and altitude and renaming columns \n",
    "\n",
    "circuit_altitudes = altitude.groupby(['name','alt'])['status'].count().sort_values(ascending = False).reset_index().head(10)\n",
    "circuit_altitudes.rename(columns={'status':'engine & transmission failures'},inplace=True)\n",
    "circuit_altitudes"
   ],
   "outputs": [],
   "execution_count": null
  },
  {
   "cell_type": "code",
   "id": "0ba55442",
   "metadata": {
    "execution": {
     "iopub.execute_input": "2023-04-20T17:11:30.127956Z",
     "iopub.status.busy": "2023-04-20T17:11:30.127507Z",
     "iopub.status.idle": "2023-04-20T17:11:31.338576Z",
     "shell.execute_reply": "2023-04-20T17:11:31.337303Z"
    },
    "hidden": true,
    "id": "235027ea",
    "outputId": "0c31008e-ba8d-4ff0-995b-2103e9451281",
    "papermill": {
     "duration": 1.233591,
     "end_time": "2023-04-20T17:11:31.341177",
     "exception": false,
     "start_time": "2023-04-20T17:11:30.107586",
     "status": "completed"
    },
    "tags": []
   },
   "source": [
    "#plotting a bubble chart: bigger the size of the bubble, higher the altitude\n",
    "\n",
    "df = circuit_altitudes\n",
    "\n",
    "fig = px.scatter(df, x=\"alt\", y=\"engine & transmission failures\",\n",
    "         size=\"alt\", color=\"name\",\n",
    "                  log_x=True, size_max= 80)\n",
    "fig.update_traces(textfont_size=20,\n",
    "                  marker=dict(line=dict(color='#000000', width=2)))\n",
    "fig.update_xaxes(showgrid=False)\n",
    "fig.update_yaxes(showgrid=False)\n",
    "fig.show()"
   ],
   "outputs": [],
   "execution_count": null
  },
  {
   "cell_type": "markdown",
   "id": "28bf1efd",
   "metadata": {
    "id": "GgnxfXffQwJ3",
    "papermill": {
     "duration": 0.018223,
     "end_time": "2023-04-20T17:11:31.377793",
     "exception": false,
     "start_time": "2023-04-20T17:11:31.359570",
     "status": "completed"
    },
    "tags": []
   },
   "source": "The Mexican GP has the most overheating-related retirements, followed by the Red Bull Ring. Surprisingly, Bahrain GP—despite being at sea level—faces similar issues, likely due to high track temperatures. These are just observations without statistical proof, but understanding the underlying causes before applying models is crucial. Using supervised algorithms or linear regression to link track temperatures and altitude to driver race status could help uncover causal relationships."
  },
  {
   "cell_type": "markdown",
   "id": "08108e34",
   "metadata": {
    "id": "9acc467e",
    "papermill": {
     "duration": 0.017859,
     "end_time": "2023-04-20T17:11:31.413941",
     "exception": false,
     "start_time": "2023-04-20T17:11:31.396082",
     "status": "completed"
    },
    "tags": []
   },
   "source": "### Q2: The case for the best F1 drivers"
  },
  {
   "cell_type": "markdown",
   "id": "ec9036ca",
   "metadata": {
    "id": "a5fbbdca",
    "papermill": {
     "duration": 0.017831,
     "end_time": "2023-04-20T17:11:31.450503",
     "exception": false,
     "start_time": "2023-04-20T17:11:31.432672",
     "status": "completed"
    },
    "tags": []
   },
   "source": "In 72 years of F1 history, 34 drivers have claimed the championship. Over the years, cars have evolved dramatically—from the high-pitched roar of early 2000s V10 engines to today's expertly designed and much safer V6 machines. Some drivers thrived in their era before making way for younger talent. Now, let's check out the first chart, showing how championship wins are distributed across different nations.\n"
  },
  {
   "cell_type": "markdown",
   "id": "a0959ec0",
   "metadata": {
    "ExecuteTime": {
     "end_time": "2022-09-22T15:47:46.736274Z",
     "start_time": "2022-09-22T15:47:46.675421Z"
    },
    "heading_collapsed": true,
    "id": "62aebe43",
    "papermill": {
     "duration": 0.017854,
     "end_time": "2023-04-20T17:11:31.486499",
     "exception": false,
     "start_time": "2023-04-20T17:11:31.468645",
     "status": "completed"
    },
    "tags": []
   },
   "source": [
    "#### Distribution by Geography"
   ]
  },
  {
   "cell_type": "code",
   "id": "ce10bbff",
   "metadata": {
    "execution": {
     "iopub.execute_input": "2023-04-20T17:11:31.524502Z",
     "iopub.status.busy": "2023-04-20T17:11:31.524087Z",
     "iopub.status.idle": "2023-04-20T17:11:31.566698Z",
     "shell.execute_reply": "2023-04-20T17:11:31.565546Z"
    },
    "hidden": true,
    "id": "7c1d5b83",
    "outputId": "f9c01762-890d-442a-ecf4-6971220b80ff",
    "papermill": {
     "duration": 0.064548,
     "end_time": "2023-04-20T17:11:31.569169",
     "exception": false,
     "start_time": "2023-04-20T17:11:31.504621",
     "status": "completed"
    },
    "tags": []
   },
   "source": [
    "# grouping by nationality, counting the driver and plotting a pie chart\n",
    "\n",
    "driver_nationality = drivers.groupby('nationality')['nationality'].count().sort_values(ascending = False).reset_index(name = 'number of drivers')\n",
    "fig = go.Figure(data=[go.Pie(labels=driver_nationality.nationality.head(10), values=driver_nationality['number of drivers'])])\n",
    "fig.update_traces(textfont_size=20,\n",
    "                  marker=dict(line=dict(color='#000000', width=2)))\n",
    "fig.update_layout(\n",
    "    title=\"Historical Driver Nationality Distribution since 1950\")\n",
    "fig.show()"
   ],
   "outputs": [],
   "execution_count": null
  },
  {
   "cell_type": "code",
   "id": "1c4ee301",
   "metadata": {
    "execution": {
     "iopub.execute_input": "2023-04-20T17:11:31.608820Z",
     "iopub.status.busy": "2023-04-20T17:11:31.608061Z",
     "iopub.status.idle": "2023-04-20T17:11:31.651568Z",
     "shell.execute_reply": "2023-04-20T17:11:31.650449Z"
    },
    "hidden": true,
    "id": "9e8d5949",
    "papermill": {
     "duration": 0.066311,
     "end_time": "2023-04-20T17:11:31.654379",
     "exception": false,
     "start_time": "2023-04-20T17:11:31.588068",
     "status": "completed"
    },
    "tags": []
   },
   "source": [
    "#merging drivers, driver standings and race data \n",
    "\n",
    "driver_position = drivers.merge(driver_standings,left_on='driverId',right_on='driverId',how = 'left')\n",
    "driver_position = driver_position.merge(races,on = 'raceId',how = 'left')"
   ],
   "outputs": [],
   "execution_count": null
  },
  {
   "cell_type": "code",
   "id": "a1b6dd19",
   "metadata": {
    "execution": {
     "iopub.execute_input": "2023-04-20T17:11:31.693727Z",
     "iopub.status.busy": "2023-04-20T17:11:31.693306Z",
     "iopub.status.idle": "2023-04-20T17:11:31.736986Z",
     "shell.execute_reply": "2023-04-20T17:11:31.735676Z"
    },
    "hidden": true,
    "id": "e2bd658b",
    "papermill": {
     "duration": 0.066877,
     "end_time": "2023-04-20T17:11:31.739806",
     "exception": false,
     "start_time": "2023-04-20T17:11:31.672929",
     "status": "completed"
    },
    "tags": []
   },
   "source": [
    "#grouping by nationality year and surname to get the max points achieved every season\n",
    "\n",
    "champions = driver_position.groupby(['nationality','year','surname'])[['points','wins']\n",
    "                                            ].max().sort_values('points',ascending = False).reset_index()\n",
    "champions.drop_duplicates(subset=['year'], inplace=True)"
   ],
   "outputs": [],
   "execution_count": null
  },
  {
   "metadata": {},
   "cell_type": "code",
   "source": [
    "# counting the number of times a nation ended in P1 and plotting a pie chart\n",
    "champion_nations = champions['nationality'].value_counts().to_frame(name='count')\n",
    "\n",
    "fig = go.Figure(data=[\n",
    "    go.Pie(labels=champion_nations.index, values=champion_nations['count'])\n",
    "])\n",
    "fig.update_traces(\n",
    "    textfont_size=20,\n",
    "    marker=dict(line=dict(color='#000000', width=2))\n",
    ")\n",
    "fig.update_layout(\n",
    "    title=\"Distribution of Historic Champions by Nation\"\n",
    ")\n",
    "fig.show()\n"
   ],
   "id": "ce4967ad2d54aca6",
   "outputs": [],
   "execution_count": null
  },
  {
   "cell_type": "markdown",
   "id": "f63bc1c0",
   "metadata": {
    "hidden": true,
    "id": "a48731a3",
    "papermill": {
     "duration": 0.018335,
     "end_time": "2023-04-20T17:11:31.836807",
     "exception": false,
     "start_time": "2023-04-20T17:11:31.818472",
     "status": "completed"
    },
    "tags": []
   },
   "source": "To understand the prominence of British drivers and champions in Formula 1, we can trace it back to World War II. During the war, intense aerial battles led to the construction of large airfields in Britain. After the war, these airfields were transformed into race tracks by car enthusiasts, attracting drivers and engineers who had worked on fighter jet engines. One notable airfield became the famous Silverstone Circuit. This influx of racing talent resulted in many Formula 1 teams establishing their headquarters in the UK, with 6 out of 10 constructors based there in 2022."
  },
  {
   "cell_type": "code",
   "id": "198d2bc4",
   "metadata": {
    "execution": {
     "iopub.execute_input": "2023-04-20T17:11:31.876445Z",
     "iopub.status.busy": "2023-04-20T17:11:31.876024Z",
     "iopub.status.idle": "2023-04-20T17:11:31.914720Z",
     "shell.execute_reply": "2023-04-20T17:11:31.913579Z"
    },
    "hidden": true,
    "id": "f3bb4727",
    "outputId": "8dace2b1-66cc-45b7-b25d-9da30008ebf5",
    "papermill": {
     "duration": 0.061228,
     "end_time": "2023-04-20T17:11:31.917287",
     "exception": false,
     "start_time": "2023-04-20T17:11:31.856059",
     "status": "completed"
    },
    "tags": []
   },
   "source": [
    "#grouping by nationality year and surname to get the max points achieved every season and dropping year duplicates\n",
    "\n",
    "champion_drivers = driver_position.groupby(['nationality','year','surname'])[['points','wins']\n",
    "                                            ].max().sort_values('points',ascending = False).reset_index()\n",
    "champion_drivers.drop_duplicates(subset=['year'], inplace=True)\n",
    "\n",
    "#grouping by nationality and counting the surname of drivers \n",
    "\n",
    "final = champion_drivers.groupby('nationality')['surname'].nunique().reset_index(name = 'champions').sort_values(\n",
    "    by='champions',ascending = False)\n",
    "\n",
    "#merging both the datasets and creating a column to calculate the ratio\n",
    "\n",
    "ratios = final.merge(driver_nationality,on='nationality',how='inner')\n",
    "ratios['perc_winners'] = (ratios.champions/ratios['number of drivers']*100).round(2)\n",
    "ratios = ratios.sort_values('perc_winners',ascending = False)\n",
    "ratios.head(5) "
   ],
   "outputs": [],
   "execution_count": null
  },
  {
   "cell_type": "code",
   "id": "ec165239",
   "metadata": {
    "execution": {
     "iopub.execute_input": "2023-04-20T17:11:31.956934Z",
     "iopub.status.busy": "2023-04-20T17:11:31.956466Z",
     "iopub.status.idle": "2023-04-20T17:11:32.061146Z",
     "shell.execute_reply": "2023-04-20T17:11:32.059936Z"
    },
    "hidden": true,
    "id": "1deb3a44",
    "outputId": "a2785952-48f7-411e-deda-9d08e97cf4a1",
    "papermill": {
     "duration": 0.127553,
     "end_time": "2023-04-20T17:11:32.063777",
     "exception": false,
     "start_time": "2023-04-20T17:11:31.936224",
     "status": "completed"
    },
    "tags": []
   },
   "source": [
    "#creating a bar chart\n",
    "\n",
    "df = ratios\n",
    "fig = px.bar(df, x='nationality', y='perc_winners',\n",
    "         hover_data=['champions','number of drivers'], color='number of drivers',\n",
    "         height=400)\n",
    "fig.update_traces(textfont_size=20,\n",
    "              marker=dict(line=dict(color='#000000', width=2)))\n",
    "fig.update_layout(\n",
    "    title=\"Champions from a nation with respect to total drivers from the nation\")\n",
    "fig.update_xaxes(showgrid=False)\n",
    "fig.update_yaxes(showgrid=False)"
   ],
   "outputs": [],
   "execution_count": null
  },
  {
   "cell_type": "markdown",
   "id": "ba5199b3",
   "metadata": {
    "id": "ff477b1f",
    "papermill": {
     "duration": 0.018855,
     "end_time": "2023-04-20T17:11:32.140464",
     "exception": false,
     "start_time": "2023-04-20T17:11:32.121609",
     "status": "completed"
    },
    "tags": []
   },
   "source": [
    "#### Most wins by a driver in a single season"
   ]
  },
  {
   "cell_type": "code",
   "id": "e854a9d1",
   "metadata": {
    "execution": {
     "iopub.execute_input": "2023-04-20T17:11:32.180471Z",
     "iopub.status.busy": "2023-04-20T17:11:32.180077Z",
     "iopub.status.idle": "2023-04-20T17:11:32.221884Z",
     "shell.execute_reply": "2023-04-20T17:11:32.220535Z"
    },
    "id": "e6676b77",
    "papermill": {
     "duration": 0.065274,
     "end_time": "2023-04-20T17:11:32.224884",
     "exception": false,
     "start_time": "2023-04-20T17:11:32.159610",
     "status": "completed"
    },
    "tags": []
   },
   "source": [
    "#merging driver data, their standings and race data\n",
    "\n",
    "driver_position = drivers.merge(driver_standings,left_on='driverId',right_on='driverId',how = 'left')\n",
    "driver_position = driver_position.merge(races,on = 'raceId',how = 'left')"
   ],
   "outputs": [],
   "execution_count": null
  },
  {
   "cell_type": "code",
   "id": "8c340c2a",
   "metadata": {
    "execution": {
     "iopub.execute_input": "2023-04-20T17:11:32.266064Z",
     "iopub.status.busy": "2023-04-20T17:11:32.265634Z",
     "iopub.status.idle": "2023-04-20T17:11:32.295780Z",
     "shell.execute_reply": "2023-04-20T17:11:32.294535Z"
    },
    "id": "489875e6",
    "outputId": "c19ef461-e5e8-42f7-a4cb-e98bcfa3e338",
    "papermill": {
     "duration": 0.053411,
     "end_time": "2023-04-20T17:11:32.298300",
     "exception": false,
     "start_time": "2023-04-20T17:11:32.244889",
     "status": "completed"
    },
    "tags": []
   },
   "source": [
    "#filtering the dataset to include only where the position is 1 and grouping by name, year and extracting the max wins\n",
    "\n",
    "positions = driver_position[driver_position['position'] == 1].groupby(\n",
    "    ['surname','year'])['wins'].max().sort_values(ascending=False).reset_index(name = 'Wins')\n",
    "positions.head(20)\n",
    "positions.year = positions.year.dt.year\n",
    "positions.rename(columns={'surname':'name'},inplace=True)\n",
    "positions.Wins = positions.Wins.astype('int64')\n",
    "\n",
    "positions.head(20)"
   ],
   "outputs": [],
   "execution_count": null
  },
  {
   "cell_type": "code",
   "id": "b50ca1b3",
   "metadata": {
    "execution": {
     "iopub.execute_input": "2023-04-20T17:11:32.339724Z",
     "iopub.status.busy": "2023-04-20T17:11:32.339335Z",
     "iopub.status.idle": "2023-04-20T17:11:32.498220Z",
     "shell.execute_reply": "2023-04-20T17:11:32.496885Z"
    },
    "id": "f58042a9",
    "outputId": "3af7338c-3486-490b-b683-a63892504696",
    "papermill": {
     "duration": 0.182869,
     "end_time": "2023-04-20T17:11:32.501133",
     "exception": false,
     "start_time": "2023-04-20T17:11:32.318264",
     "status": "completed"
    },
    "tags": []
   },
   "source": [
    "#plotting a bubble chart\n",
    "\n",
    "fig = px.scatter(positions.head(30), x=\"year\", y=\"Wins\", color=\"name\",\n",
    "                 title=\"Most wins by a driver in a single season\",size = 'Wins')\n",
    "fig.update_traces(textfont_size=20,\n",
    "                  marker=dict(line=dict(color='#000000', width=2)))\n",
    "fig.update_xaxes(showgrid=False)\n",
    "fig.show()"
   ],
   "outputs": [],
   "execution_count": null
  },
  {
   "cell_type": "markdown",
   "id": "c87d9ad4",
   "metadata": {
    "id": "3255df87",
    "papermill": {
     "duration": 0.022232,
     "end_time": "2023-04-20T17:11:32.582781",
     "exception": false,
     "start_time": "2023-04-20T17:11:32.560549",
     "status": "completed"
    },
    "tags": []
   },
   "source": [
    "#### Most competitive seasons by points difference"
   ]
  },
  {
   "cell_type": "code",
   "id": "44ca2f05",
   "metadata": {
    "execution": {
     "iopub.execute_input": "2023-04-20T17:11:32.624304Z",
     "iopub.status.busy": "2023-04-20T17:11:32.623923Z",
     "iopub.status.idle": "2023-04-20T17:11:32.642486Z",
     "shell.execute_reply": "2023-04-20T17:11:32.641370Z"
    },
    "id": "ee859535",
    "outputId": "b96f7646-4697-410a-87e1-777a553242e7",
    "papermill": {
     "duration": 0.042592,
     "end_time": "2023-04-20T17:11:32.645133",
     "exception": false,
     "start_time": "2023-04-20T17:11:32.602541",
     "status": "completed"
    },
    "tags": []
   },
   "source": [
    "competition = driver_position[driver_position['year'].dt.year == 1991\n",
    "               ].groupby(['surname','year']).points.max().sort_values(ascending = False).reset_index().head(5)\n",
    "competition.year = competition.year.dt.year\n",
    "competition.iloc[0:2,0]         "
   ],
   "outputs": [],
   "execution_count": null
  },
  {
   "cell_type": "code",
   "id": "0bfdf101",
   "metadata": {
    "execution": {
     "iopub.execute_input": "2023-04-20T17:11:32.688635Z",
     "iopub.status.busy": "2023-04-20T17:11:32.688219Z",
     "iopub.status.idle": "2023-04-20T17:11:32.704079Z",
     "shell.execute_reply": "2023-04-20T17:11:32.702880Z"
    },
    "id": "6534e890",
    "papermill": {
     "duration": 0.040541,
     "end_time": "2023-04-20T17:11:32.706887",
     "exception": false,
     "start_time": "2023-04-20T17:11:32.666346",
     "status": "completed"
    },
    "tags": []
   },
   "source": [
    "def rivalry(x):\n",
    "    competition = driver_position[driver_position['year'].dt.year == x] \\\n",
    "             .groupby(['surname', 'year']).points.max() \\\n",
    "             .sort_values(ascending=False).reset_index().head(5)\n",
    "    competition.year = competition.year.dt.year    \n",
    "    \n",
    "    h = driver_position.merge(circuits,left_on='circuitId',right_on='circuitId',how = 'left')\n",
    "    h.rename(columns={'name_y':'circuit_name'},inplace=True)\n",
    "    viz = h.loc[:,['date','year','circuit_name','surname','points','wins']]\n",
    "\n",
    "    viz.dropna(inplace = True)\n",
    "\n",
    "    viz.points = viz.points.astype('int64')\n",
    "    viz.wins = viz.wins.astype('int64')\n",
    "    viz.year = viz.year.dt.year\n",
    "    viz.date = pd.to_datetime(viz.date)\n",
    "    \n",
    "    top_five = viz[viz.loc[:,'year'] == x]\n",
    "    top_five = top_five.groupby(['surname'])[['points','wins']].max().sort_values('points',ascending = False).head(6).reset_index()\n",
    "    \n",
    "    duo = competition.iloc[0:2]\n",
    "    if competition.iloc[0,2] - competition.iloc[1,2] <= 10:\n",
    "        print('\\033[1m' + 'A rivalry in the history books!')\n",
    "    elif competition.iloc[0,2] - competition.iloc[1,2] <= 20:\n",
    "        print('\\033[1m' + 'Spicy!')\n",
    "    elif competition.iloc[0,2] - competition.iloc[1,2] < 30:\n",
    "        print('\\033[1m' + 'Meh!')\n",
    "    elif competition.iloc[0,2] - competition.iloc[1,2] >= 30:\n",
    "        print('\\033[1m' + 'Snore Fest!')\n",
    "\n",
    "        \n",
    "    df = top_five\n",
    "    fig = px.bar(df, x='surname', y='points',\n",
    "             hover_data=['wins'], color='points',\n",
    "            height=400,color_continuous_scale= 'turbo')\n",
    "    fig.update_traces(textfont_size=20,\n",
    "                  marker=dict(line=dict(color='#000000', width=2)))\n",
    "    fig.update_xaxes(showgrid=False)\n",
    "    fig.update_yaxes(showgrid=False)\n",
    "    \n",
    "    print('----------------------------------')\n",
    "    x = fig.show()\n",
    "    return x "
   ],
   "outputs": [],
   "execution_count": null
  },
  {
   "cell_type": "markdown",
   "id": "94cbc7b2",
   "metadata": {
    "id": "4keiEuGPF08U",
    "papermill": {
     "duration": 0.019593,
     "end_time": "2023-04-20T17:11:32.746722",
     "exception": false,
     "start_time": "2023-04-20T17:11:32.727129",
     "status": "completed"
    },
    "tags": []
   },
   "source": [
    "**PLAY AROUND WITH THE YEAR BELOW**"
   ]
  },
  {
   "cell_type": "code",
   "id": "a1009f99",
   "metadata": {
    "execution": {
     "iopub.execute_input": "2023-04-20T17:11:32.788178Z",
     "iopub.status.busy": "2023-04-20T17:11:32.787750Z",
     "iopub.status.idle": "2023-04-20T17:11:35.451120Z",
     "shell.execute_reply": "2023-04-20T17:11:35.449733Z"
    },
    "id": "048308b9",
    "outputId": "9186403e-07d9-45dd-b07b-779e4e113112",
    "papermill": {
     "duration": 2.68735,
     "end_time": "2023-04-20T17:11:35.453876",
     "exception": false,
     "start_time": "2023-04-20T17:11:32.766526",
     "status": "completed"
    },
    "tags": []
   },
   "source": [
    "rivalry(2021)      "
   ],
   "outputs": [],
   "execution_count": null
  },
  {
   "cell_type": "markdown",
   "id": "08cc45b6",
   "metadata": {
    "heading_collapsed": true,
    "id": "56b09f15",
    "papermill": {
     "duration": 0.022047,
     "end_time": "2023-04-20T17:11:35.498549",
     "exception": false,
     "start_time": "2023-04-20T17:11:35.476502",
     "status": "completed"
    },
    "tags": []
   },
   "source": [
    "### Who has the fastest lap time in every circuit?"
   ]
  },
  {
   "cell_type": "code",
   "id": "92d529be",
   "metadata": {
    "execution": {
     "iopub.execute_input": "2023-04-20T17:11:35.540676Z",
     "iopub.status.busy": "2023-04-20T17:11:35.540251Z",
     "iopub.status.idle": "2023-04-20T17:11:35.672106Z",
     "shell.execute_reply": "2023-04-20T17:11:35.670909Z"
    },
    "hidden": true,
    "id": "82fbeb0f",
    "papermill": {
     "duration": 0.155822,
     "end_time": "2023-04-20T17:11:35.674872",
     "exception": false,
     "start_time": "2023-04-20T17:11:35.519050",
     "status": "completed"
    },
    "tags": []
   },
   "source": [
    "#merging and extraction of important columns\n",
    "\n",
    "fast = circuits.merge(races,left_on = 'circuitId',right_on='circuitId',how = 'left')\n",
    "fast = fast.merge(results,on='raceId',how = 'left')\n",
    "fast = fast.merge(drivers,left_on='driverId',right_on='driverId',how = 'inner')\n",
    "fast.rename(columns={'name_x':'circuit_name'},inplace = True)\n",
    "fast = fast[['circuit_name','country','surname','fastestLapTime','nationality','year']]\n",
    "\n",
    "# dropping null values and converting fastestlaptime into seconds\n",
    "\n",
    "# fast = fast.dropna()\n",
    "# fast['fastestLapTime_seconds']=fast['fastestLapTime'].apply(lambda x: float(x.split(':')[0])*60+float(x.split(':')[1]))\n",
    "\n",
    "# Dropping null values and ensuring fastestLapTime has valid format\n",
    "fast = fast.dropna()\n",
    "fast = fast[fast['fastestLapTime'].str.contains(':', na=False)]\n",
    "\n",
    "# Converting fastestLapTime into seconds\n",
    "fast['fastestLapTime_seconds'] = fast['fastestLapTime'].apply(\n",
    "    lambda x: float(x.split(':')[0]) * 60 + float(x.split(':')[1])\n",
    ")"
   ],
   "outputs": [],
   "execution_count": null
  },
  {
   "cell_type": "code",
   "id": "a66d2c84",
   "metadata": {
    "execution": {
     "iopub.execute_input": "2023-04-20T17:11:35.717750Z",
     "iopub.status.busy": "2023-04-20T17:11:35.716625Z",
     "iopub.status.idle": "2023-04-20T17:11:35.745540Z",
     "shell.execute_reply": "2023-04-20T17:11:35.744538Z"
    },
    "hidden": true,
    "id": "be42b34f",
    "outputId": "62e48c3c-3e04-4361-f019-439423c75144",
    "papermill": {
     "duration": 0.052904,
     "end_time": "2023-04-20T17:11:35.747940",
     "exception": false,
     "start_time": "2023-04-20T17:11:35.695036",
     "status": "completed"
    },
    "tags": []
   },
   "source": [
    "fast['fastest_recorded_lap'] = fast.groupby(['circuit_name'])['fastestLapTime'].transform('min')\n",
    "fastest = fast[fast['fastest_recorded_lap']==fast['fastestLapTime']].sort_values('country').reset_index(col_level = 1)\n",
    "fastest.drop(['index','fastest_recorded_lap'],inplace=True,axis = 1)\n",
    "fastest['year'] = fastest.year.dt.year\n",
    "fastest.head()"
   ],
   "outputs": [],
   "execution_count": null
  },
  {
   "cell_type": "code",
   "id": "7281e644",
   "metadata": {
    "execution": {
     "iopub.execute_input": "2023-04-20T17:11:35.791354Z",
     "iopub.status.busy": "2023-04-20T17:11:35.790290Z",
     "iopub.status.idle": "2023-04-20T17:11:35.867427Z",
     "shell.execute_reply": "2023-04-20T17:11:35.866136Z"
    },
    "hidden": true,
    "id": "88236438",
    "outputId": "54a12df6-1dbd-4556-dc50-5300a5719332",
    "papermill": {
     "duration": 0.101369,
     "end_time": "2023-04-20T17:11:35.870118",
     "exception": false,
     "start_time": "2023-04-20T17:11:35.768749",
     "status": "completed"
    },
    "tags": []
   },
   "source": [
    "fastest_viz = fastest.surname.value_counts().rename_axis('driver').reset_index(name= 'fastest laps') \n",
    "\n",
    "df = fastest_viz\n",
    "fig = px.bar(df, x='driver', y='fastest laps',\n",
    "         hover_data=['fastest laps'], color='fastest laps',\n",
    "        height=400,color_continuous_scale= 'Blues')\n",
    "fig.update_layout(\n",
    "    title=\"Drivers with the most fastest ever laps\")\n",
    "fig.update_traces(textfont_size=20,\n",
    "              marker=dict(line=dict(color='#000000', width=2)))\n",
    "fig.update_xaxes(showgrid=False)\n",
    "fig.update_yaxes(showgrid=False)"
   ],
   "outputs": [],
   "execution_count": null
  },
  {
   "cell_type": "markdown",
   "id": "cffe9fae",
   "metadata": {
    "hidden": true,
    "id": "44a911af",
    "papermill": {
     "duration": 0.020822,
     "end_time": "2023-04-20T17:11:35.911713",
     "exception": false,
     "start_time": "2023-04-20T17:11:35.890891",
     "status": "completed"
    },
    "tags": []
   },
   "source": [
    "####  "
   ]
  },
  {
   "cell_type": "markdown",
   "id": "131a9823",
   "metadata": {
    "ExecuteTime": {
     "end_time": "2022-10-05T10:28:43.665816Z",
     "start_time": "2022-10-05T10:28:43.645512Z"
    },
    "heading_collapsed": true,
    "id": "3ce77038",
    "papermill": {
     "duration": 0.020131,
     "end_time": "2023-04-20T17:11:35.952554",
     "exception": false,
     "start_time": "2023-04-20T17:11:35.932423",
     "status": "completed"
    },
    "tags": []
   },
   "source": [
    "### Qualifying Pole = Race Pole? "
   ]
  },
  {
   "cell_type": "markdown",
   "id": "23c126a4",
   "metadata": {
    "hidden": true,
    "id": "ad67c689",
    "papermill": {
     "duration": 0.02089,
     "end_time": "2023-04-20T17:11:35.994684",
     "exception": false,
     "start_time": "2023-04-20T17:11:35.973794",
     "status": "completed"
    },
    "tags": []
   },
   "source": [
    "In F1, finishing at the pole on Saturday often does not guarantee the same on race day. What makes the mark of a great driver? Finishing pole every time he starts at the pole? A perfect ratio of 1? Or someone who's won more races than qualifying wins?"
   ]
  },
  {
   "cell_type": "markdown",
   "id": "6c25cb60",
   "metadata": {
    "heading_collapsed": true,
    "hidden": true,
    "id": "f712191c",
    "papermill": {
     "duration": 0.021013,
     "end_time": "2023-04-20T17:11:36.037476",
     "exception": false,
     "start_time": "2023-04-20T17:11:36.016463",
     "status": "completed"
    },
    "tags": []
   },
   "source": [
    "##### Calculating grid pole positions"
   ]
  },
  {
   "cell_type": "code",
   "id": "0de67b74",
   "metadata": {
    "execution": {
     "iopub.execute_input": "2023-04-20T17:11:36.082039Z",
     "iopub.status.busy": "2023-04-20T17:11:36.081299Z",
     "iopub.status.idle": "2023-04-20T17:11:36.142303Z",
     "shell.execute_reply": "2023-04-20T17:11:36.141102Z"
    },
    "hidden": true,
    "id": "f32f1ee1",
    "outputId": "0249d37f-160c-4446-9c37-fed8c9ba66f9",
    "papermill": {
     "duration": 0.087645,
     "end_time": "2023-04-20T17:11:36.145704",
     "exception": false,
     "start_time": "2023-04-20T17:11:36.058059",
     "status": "completed"
    },
    "tags": []
   },
   "source": [
    "#merging the (1) two dataframes [drivers and qualifying] needed and (2) performing aggregation function\n",
    "\n",
    "driver_quali = results.merge(drivers,left_on = 'driverId',right_on='driverId',how = 'left')\n",
    "driver_quali['full_name'] = driver_quali['forename'] + ' ' + driver_quali['surname']\n",
    "driver_quali = driver_quali[['full_name','grid','position']]\n",
    "\n",
    "\n",
    "quali_wins = driver_quali[driver_quali['grid'] == 1].groupby('full_name')['grid'].sum().reset_index(\n",
    "                                        name = 'grid poles').sort_values('grid poles',ascending = False)\n",
    "\n",
    "#resetting index numbers \n",
    "\n",
    "quali_wins = quali_wins.reset_index(col_level=0)\n",
    "quali_wins.drop('index',axis = 1,inplace = True)\n",
    "quali_wins.head(20)"
   ],
   "outputs": [],
   "execution_count": null
  },
  {
   "cell_type": "markdown",
   "id": "3fe0a3a5",
   "metadata": {
    "heading_collapsed": true,
    "hidden": true,
    "id": "1c8b6096",
    "papermill": {
     "duration": 0.02069,
     "end_time": "2023-04-20T17:11:36.188622",
     "exception": false,
     "start_time": "2023-04-20T17:11:36.167932",
     "status": "completed"
    },
    "tags": []
   },
   "source": "##### Calculating race wins"
  },
  {
   "cell_type": "code",
   "id": "553368bf",
   "metadata": {
    "execution": {
     "iopub.execute_input": "2023-04-20T17:11:36.233041Z",
     "iopub.status.busy": "2023-04-20T17:11:36.232615Z",
     "iopub.status.idle": "2023-04-20T17:11:36.290803Z",
     "shell.execute_reply": "2023-04-20T17:11:36.289693Z"
    },
    "hidden": true,
    "id": "ce35000c",
    "outputId": "89944ce2-5fb8-46e9-a23d-9e0d96da18cb",
    "papermill": {
     "duration": 0.083265,
     "end_time": "2023-04-20T17:11:36.293324",
     "exception": false,
     "start_time": "2023-04-20T17:11:36.210059",
     "status": "completed"
    },
    "tags": []
   },
   "source": [
    "#merging (1) dataframes [drivers, results], (2) creating a full name column and (3) selecting the important columns \n",
    "\n",
    "race_wins = drivers.merge(results,left_on='driverId',right_on='driverId',how = 'left')\n",
    "race_wins['full_name'] = race_wins['forename'] + ' ' + race_wins['surname']\n",
    "\n",
    "race_wins = race_wins[['full_name','position']]\n",
    "\n",
    "# grouping by surname and counting the number of races won\n",
    "\n",
    "highest_rw = race_wins[race_wins['position'] == 1.0].groupby('full_name').count().sort_values(\n",
    "    'position', ascending = False).reset_index()\n",
    "highest_rw.head()"
   ],
   "outputs": [],
   "execution_count": null
  },
  {
   "cell_type": "markdown",
   "id": "00a77cf2",
   "metadata": {
    "hidden": true,
    "id": "d895a39e",
    "papermill": {
     "duration": 0.020779,
     "end_time": "2023-04-20T17:11:36.335217",
     "exception": false,
     "start_time": "2023-04-20T17:11:36.314438",
     "status": "completed"
    },
    "tags": []
   },
   "source": [
    "##### Calculating RacePole / GridPole "
   ]
  },
  {
   "cell_type": "code",
   "id": "1c77baa5",
   "metadata": {
    "execution": {
     "iopub.execute_input": "2023-04-20T17:11:36.378759Z",
     "iopub.status.busy": "2023-04-20T17:11:36.378333Z",
     "iopub.status.idle": "2023-04-20T17:11:36.407591Z",
     "shell.execute_reply": "2023-04-20T17:11:36.406214Z"
    },
    "hidden": true,
    "id": "b7a15200",
    "outputId": "139aec29-6575-4226-f922-39c78f90dbf6",
    "papermill": {
     "duration": 0.053914,
     "end_time": "2023-04-20T17:11:36.410043",
     "exception": false,
     "start_time": "2023-04-20T17:11:36.356129",
     "status": "completed"
    },
    "tags": []
   },
   "source": [
    "#merging the race wins alongside starting at grid position 1 \n",
    "\n",
    "racexpole = highest_rw.merge(quali_wins,on = 'full_name',how = 'left')\n",
    "racexpole = racexpole[racexpole['grid poles'] > 10]                    #setting minimum grid poles as > 10 \n",
    "racexpole.dropna(inplace=True)                                         #dropping 28 null values\n",
    "\n",
    "#cosmetic changes and calculation of racexgrid pole ratio\n",
    "\n",
    "racexpole.rename(columns={'position':'race poles'},inplace=True)\n",
    "racexpole['grid poles'] = racexpole['grid poles'].astype(int)\n",
    "racexpole['racexgrid'] = (racexpole['race poles']/racexpole['grid poles']).round(2)\n",
    "racexpole = racexpole.sort_values('racexgrid',ascending=False).reset_index(col_level=0)\n",
    "racexpole.drop('index',axis = 1,inplace = True)\n",
    "racexpole.head(15)"
   ],
   "outputs": [],
   "execution_count": null
  },
  {
   "cell_type": "code",
   "id": "ad23d0d0",
   "metadata": {
    "execution": {
     "iopub.execute_input": "2023-04-20T17:11:36.456194Z",
     "iopub.status.busy": "2023-04-20T17:11:36.455751Z",
     "iopub.status.idle": "2023-04-20T17:11:36.531940Z",
     "shell.execute_reply": "2023-04-20T17:11:36.530799Z"
    },
    "hidden": true,
    "id": "77046e53",
    "outputId": "9c35fec0-990e-47e6-e84c-9637081f67b5",
    "papermill": {
     "duration": 0.102123,
     "end_time": "2023-04-20T17:11:36.534373",
     "exception": false,
     "start_time": "2023-04-20T17:11:36.432250",
     "status": "completed"
    },
    "tags": []
   },
   "source": [
    "df = racexpole.head(12)\n",
    "fig = px.bar(df, x='full_name', y='racexgrid',\n",
    "         hover_data=['race poles','grid poles'], color='racexgrid',\n",
    "        height=400,color_continuous_scale= 'gray')\n",
    "fig.update_layout(\n",
    "    title=\"Race Poles/Grid Poles Ratio\")\n",
    "fig.update_traces(textfont_size=20,\n",
    "              marker=dict(line=dict(color='#000000', width=2)))\n",
    "fig.update_xaxes(showgrid=False)\n",
    "fig.update_yaxes(showgrid=False)"
   ],
   "outputs": [],
   "execution_count": null
  },
  {
   "cell_type": "markdown",
   "id": "d8bb87b7",
   "metadata": {
    "hidden": true,
    "id": "4d7fd4e6",
    "papermill": {
     "duration": 0.021744,
     "end_time": "2023-04-20T17:11:36.578150",
     "exception": false,
     "start_time": "2023-04-20T17:11:36.556406",
     "status": "completed"
    },
    "tags": []
   },
   "source": [
    "The above chart indicates Max Verstappen has more wins (26) than pole positions (16). His innate ability to thrive under pressure, as we witnessed in the last lap of the 2021 season and his aggressive driving stance helps him win races even if he isn't the best in qualifying. This is also a case for why Schumacher would be considered the best ever because he's extracted those race points and championships from more challenging grid positions than Lewis Hamilton. "
   ]
  },
  {
   "cell_type": "markdown",
   "id": "392894e6",
   "metadata": {
    "heading_collapsed": true,
    "id": "cab13dad",
    "papermill": {
     "duration": 0.021699,
     "end_time": "2023-04-20T17:11:36.621655",
     "exception": false,
     "start_time": "2023-04-20T17:11:36.599956",
     "status": "completed"
    },
    "tags": []
   },
   "source": [
    "### Worst tracks based on overtaking action"
   ]
  },
  {
   "cell_type": "markdown",
   "id": "ceb94c95",
   "metadata": {
    "id": "ZBI30wsiQYpt",
    "papermill": {
     "duration": 0.022006,
     "end_time": "2023-04-20T17:11:36.665181",
     "exception": false,
     "start_time": "2023-04-20T17:11:36.643175",
     "status": "completed"
    },
    "tags": []
   },
   "source": [
    "There are always a few tracks in the calendar year that we know will be a snoozefest. Poor racing and overtake action happen on circuits, with most of the design and racing happening in straight lines and nothing else. To check for the least overtaking action, I counted the number of times the positions of the cars remained unchanged from the start till the end of the race. There's always a possibility of overtaking and the driver returning to his initial position. Although this method of rating tracks is not perfect, it'll give us a reasonable glimpse of potentially bland circuits."
   ]
  },
  {
   "cell_type": "code",
   "id": "40bf7cd8",
   "metadata": {
    "execution": {
     "iopub.execute_input": "2023-04-20T17:11:36.709695Z",
     "iopub.status.busy": "2023-04-20T17:11:36.709255Z",
     "iopub.status.idle": "2023-04-20T17:11:36.777741Z",
     "shell.execute_reply": "2023-04-20T17:11:36.776647Z"
    },
    "hidden": true,
    "id": "bf994338",
    "outputId": "242f1e4b-71a9-4261-927f-5e54f3d6b768",
    "papermill": {
     "duration": 0.093483,
     "end_time": "2023-04-20T17:11:36.780068",
     "exception": false,
     "start_time": "2023-04-20T17:11:36.686585",
     "status": "completed"
    },
    "tags": []
   },
   "source": [
    "tracks = circuits.merge(races, left_on='circuitid',right_on='circuitId',how = 'inner') \n",
    "tracks = tracks.merge(results,on = 'raceId',how = 'left')\n",
    "tracks = tracks[['name_x','circuitid','driverId','position','grid','raceId','year']]\n",
    "tracks.rename(columns={'name_x':'circuit'},inplace=True)\n",
    "tracks.dropna(inplace = True)\n",
    "\n",
    "\n",
    "tracks = tracks.loc[(tracks['year'] >= '2010-01-01')]\n",
    "tracks"
   ],
   "outputs": [],
   "execution_count": null
  },
  {
   "cell_type": "code",
   "id": "45f5bae1",
   "metadata": {
    "execution": {
     "iopub.execute_input": "2023-04-20T17:11:36.825615Z",
     "iopub.status.busy": "2023-04-20T17:11:36.825201Z",
     "iopub.status.idle": "2023-04-20T17:11:36.832130Z",
     "shell.execute_reply": "2023-04-20T17:11:36.830845Z"
    },
    "hidden": true,
    "id": "f01c002e",
    "outputId": "370437a2-95c9-443a-cbbe-6518a890a8ab",
    "papermill": {
     "duration": 0.032571,
     "end_time": "2023-04-20T17:11:36.834555",
     "exception": false,
     "start_time": "2023-04-20T17:11:36.801984",
     "status": "completed"
    },
    "tags": []
   },
   "source": [
    "tracks['position_status'] = np.where(tracks['position'] == tracks['grid'],1,0)"
   ],
   "outputs": [],
   "execution_count": null
  },
  {
   "cell_type": "code",
   "id": "26b76e10",
   "metadata": {
    "execution": {
     "iopub.execute_input": "2023-04-20T17:11:36.887244Z",
     "iopub.status.busy": "2023-04-20T17:11:36.886690Z",
     "iopub.status.idle": "2023-04-20T17:11:36.918693Z",
     "shell.execute_reply": "2023-04-20T17:11:36.917722Z"
    },
    "hidden": true,
    "id": "cd61329a",
    "outputId": "d80a1081-b532-4697-c36d-5375dc3309cd",
    "papermill": {
     "duration": 0.06142,
     "end_time": "2023-04-20T17:11:36.921838",
     "exception": false,
     "start_time": "2023-04-20T17:11:36.860418",
     "status": "completed"
    },
    "tags": []
   },
   "source": [
    "#counting total number of races held in each track and attaching it to the previously created tracks column\n",
    "\n",
    "total_races = races.loc[(races['year'] >= '2010-01-01')]\n",
    "total_races = total_races.circuitId.value_counts().reset_index()\n",
    "total_races.rename(columns={\"index\":'circuitid','circuitId':'num_races'},inplace=True)\n",
    "tracks = tracks.merge(total_races,on='circuitid',how = 'left')  \n",
    "tracks"
   ],
   "outputs": [],
   "execution_count": null
  },
  {
   "cell_type": "code",
   "id": "7b6fc956",
   "metadata": {
    "execution": {
     "iopub.execute_input": "2023-04-20T17:11:36.990140Z",
     "iopub.status.busy": "2023-04-20T17:11:36.989684Z",
     "iopub.status.idle": "2023-04-20T17:11:37.005993Z",
     "shell.execute_reply": "2023-04-20T17:11:37.004615Z"
    },
    "id": "bLrV45VnMf-k",
    "outputId": "38bd9cce-bc01-4e8a-ed83-5a46f6731a7a",
    "papermill": {
     "duration": 0.054059,
     "end_time": "2023-04-20T17:11:37.009475",
     "exception": false,
     "start_time": "2023-04-20T17:11:36.955416",
     "status": "completed"
    },
    "tags": []
   },
   "source": [
    "#pivot table to find the count of unchanged positions [marked numbers column 1 values]\n",
    "\n",
    "circuit_rating = tracks[tracks['num_races'] >= 5].pivot_table(index=['circuit','num_races'], columns='position_status', aggfunc='size', \n",
    "                                             fill_value=0)\n",
    "circuit_rating = circuit_rating.reset_index()"
   ],
   "outputs": [],
   "execution_count": null
  },
  {
   "cell_type": "code",
   "id": "6caddbfc",
   "metadata": {
    "execution": {
     "iopub.execute_input": "2023-04-20T17:11:37.066186Z",
     "iopub.status.busy": "2023-04-20T17:11:37.065250Z",
     "iopub.status.idle": "2023-04-20T17:11:37.087800Z",
     "shell.execute_reply": "2023-04-20T17:11:37.086649Z"
    },
    "hidden": true,
    "id": "b90c5bf3",
    "outputId": "e458f2e7-5308-473a-b5cd-0fcdd5c4f377",
    "papermill": {
     "duration": 0.049322,
     "end_time": "2023-04-20T17:11:37.090244",
     "exception": false,
     "start_time": "2023-04-20T17:11:37.040922",
     "status": "completed"
    },
    "tags": []
   },
   "source": [
    "#checking for tracks that had the least amount of overtaking action\n",
    "circuit_rating['boring_score'] = circuit_rating[1].divide(circuit_rating['num_races'])\n",
    "circuit_rating = circuit_rating.sort_values('boring_score',ascending=False)\n",
    "\n",
    "circuit_rating"
   ],
   "outputs": [],
   "execution_count": null
  },
  {
   "cell_type": "code",
   "id": "bcbffbe5",
   "metadata": {
    "execution": {
     "iopub.execute_input": "2023-04-20T17:11:37.139371Z",
     "iopub.status.busy": "2023-04-20T17:11:37.138456Z",
     "iopub.status.idle": "2023-04-20T17:11:37.239041Z",
     "shell.execute_reply": "2023-04-20T17:11:37.237844Z"
    },
    "hidden": true,
    "id": "63aae351",
    "outputId": "4f8a7c70-6ebe-4b18-b3b6-2a834ac9dc65",
    "papermill": {
     "duration": 0.128495,
     "end_time": "2023-04-20T17:11:37.242211",
     "exception": false,
     "start_time": "2023-04-20T17:11:37.113716",
     "status": "completed"
    },
    "tags": []
   },
   "source": [
    "df = circuit_rating.head(10)\n",
    "fig = px.bar(df, x='circuit', y='boring_score',\n",
    "         hover_data=['num_races',1], color='num_races',\n",
    "        height=400,color_continuous_scale= 'ice')\n",
    "fig.update_layout(\n",
    "    title=\"Worst Tracks to Overtake\")\n",
    "fig.update_traces(textfont_size=20,\n",
    "              marker=dict(line=dict(color='#000000', width=2)))\n",
    "fig.update_xaxes(showgrid=False)\n",
    "fig.update_yaxes(showgrid=False)"
   ],
   "outputs": [],
   "execution_count": null
  },
  {
   "cell_type": "markdown",
   "id": "35f4062f",
   "metadata": {
    "hidden": true,
    "id": "ccca61ec",
    "papermill": {
     "duration": 0.026107,
     "end_time": "2023-04-20T17:11:37.294847",
     "exception": false,
     "start_time": "2023-04-20T17:11:37.268740",
     "status": "completed"
    },
    "tags": []
   },
   "source": [
    "The data is filtered to include only observations after 2009. Monaco, considered an iconic track for the generational history of F1, makes it to this list. Monaco GP is poorly designed for modern-day F1 cars, which are much bigger than the race cars of the 1990s. The lack of room in the track makes it extremely hard for drivers to overtake on race day."
   ]
  }
 ],
 "metadata": {
  "kernelspec": {
   "display_name": "Python 3",
   "language": "python",
   "name": "python3"
  },
  "language_info": {
   "codemirror_mode": {
    "name": "ipython",
    "version": 3
   },
   "file_extension": ".py",
   "mimetype": "text/x-python",
   "name": "python",
   "nbconvert_exporter": "python",
   "pygments_lexer": "ipython3",
   "version": "3.7.12"
  },
  "papermill": {
   "default_parameters": {},
   "duration": 23.2074,
   "end_time": "2023-04-20T17:11:38.143968",
   "environment_variables": {},
   "exception": null,
   "input_path": "__notebook__.ipynb",
   "output_path": "__notebook__.ipynb",
   "parameters": {},
   "start_time": "2023-04-20T17:11:14.936568",
   "version": "2.3.4"
  }
 },
 "nbformat": 4,
 "nbformat_minor": 5
}
